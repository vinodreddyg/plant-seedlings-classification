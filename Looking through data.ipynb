{
 "cells": [
  {
   "cell_type": "code",
   "execution_count": 84,
   "metadata": {},
   "outputs": [],
   "source": [
    "import numpy as np\n",
    "import pandas as pd\n",
    "from matplotlib import pyplot as plt\n",
    "from matplotlib import image as mpimg"
   ]
  },
  {
   "cell_type": "code",
   "execution_count": 82,
   "metadata": {},
   "outputs": [],
   "source": [
    "path = \"./data/\"\n",
    "train = f'{path}train'\n",
    "test = f'{path}test'\n",
    "valid = f'{path}valid'"
   ]
  },
  {
   "cell_type": "code",
   "execution_count": 14,
   "metadata": {},
   "outputs": [],
   "source": [
    "folders = !ls {train}"
   ]
  },
  {
   "cell_type": "code",
   "execution_count": 101,
   "metadata": {},
   "outputs": [],
   "source": [
    "def get_file_count(parent, folder):\n",
    "    fc = !ls {parent}/'{folder}' | wc -l\n",
    "    return int(fc[0])\n",
    "\n",
    "train_disbn = { folder: get_file_count(train, folder) for folder in folders  }\n",
    "valid_disbn = { folder: get_file_count(valid, folder) for folder in folders  }"
   ]
  },
  {
   "cell_type": "code",
   "execution_count": 45,
   "metadata": {},
   "outputs": [
    {
     "data": {
      "image/png": "[encoded data removed]",
      "text/plain": [
       "<matplotlib.figure.Figure at 0x7f8380b022b0>"
      ]
     },
     "metadata": {},
     "output_type": "display_data"
    }
   ],
   "source": [
    "sorted_classes = sorted(class_disbn, key=class_disbn.get)\n",
    "sorted_vals = list(map(class_disbn.get, sorted_classes))\n",
    "plt.figure(figsize=(25,5))\n",
    "plt.bar(range(len(sorted_classes)), sorted_vals, align='center')\n",
    "plt.xticks(range(len(sorted_classes)), sorted_classes)\n",
    "plt.show()"
   ]
  },
  {
   "cell_type": "code",
   "execution_count": 66,
   "metadata": {},
   "outputs": [],
   "source": [
    "imgsize_map = {}\n",
    "for folder in folders: \n",
    "    files = !ls {train}/'{folder}'\n",
    "    for file in files:\n",
    "        img = mpimg.imread(os.path.join(train, folder, file))\n",
    "        imgsize_map[file] = img.shape"
   ]
  },
  {
   "cell_type": "code",
   "execution_count": 77,
   "metadata": {},
   "outputs": [
    {
     "data": {
      "text/plain": [
       "(array([1.576e+03, 8.450e+02, 4.990e+02, 6.300e+02, 4.060e+02, 2.820e+02,\n",
       "        1.470e+02, 9.700e+01, 8.800e+01, 4.800e+01, 4.700e+01, 2.700e+01,\n",
       "        2.000e+01, 9.000e+00, 7.000e+00, 3.000e+00, 5.000e+00, 5.000e+00,\n",
       "        2.000e+00, 1.000e+00, 0.000e+00, 2.000e+00, 0.000e+00, 1.000e+00,\n",
       "        0.000e+00, 0.000e+00, 0.000e+00, 1.000e+00, 0.000e+00, 2.000e+00]),\n",
       " array([  49. ,  162.6,  276.2,  389.8,  503.4,  617. ,  730.6,  844.2,\n",
       "         957.8, 1071.4, 1185. , 1298.6, 1412.2, 1525.8, 1639.4, 1753. ,\n",
       "        1866.6, 1980.2, 2093.8, 2207.4, 2321. , 2434.6, 2548.2, 2661.8,\n",
       "        2775.4, 2889. , 3002.6, 3116.2, 3229.8, 3343.4, 3457. ]),\n",
       " <a list of 30 Patch objects>)"
      ]
     },
     "execution_count": 77,
     "metadata": {},
     "output_type": "execute_result"
    },
    {
     "data": {
      "image/png": "[encoded data removed]",
      "text/plain": [
       "<matplotlib.figure.Figure at 0x7f8383cb1e10>"
      ]
     },
     "metadata": {},
     "output_type": "display_data"
    }
   ],
   "source": [
    "plt.hist(list(map(lambda x: x[0], imgsize_map.values())), bins=30)"
   ]
  },
  {
   "cell_type": "code",
   "execution_count": 78,
   "metadata": {},
   "outputs": [
    {
     "data": {
      "text/plain": [
       "(array([1.874e+03, 6.770e+02, 6.770e+02, 5.850e+02, 3.810e+02, 1.830e+02,\n",
       "        1.140e+02, 9.100e+01, 6.200e+01, 3.600e+01, 3.000e+01, 1.100e+01,\n",
       "        6.000e+00, 3.000e+00, 6.000e+00, 3.000e+00, 3.000e+00, 0.000e+00,\n",
       "        2.000e+00, 1.000e+00, 0.000e+00, 2.000e+00, 0.000e+00, 1.000e+00,\n",
       "        0.000e+00, 0.000e+00, 0.000e+00, 1.000e+00, 0.000e+00, 1.000e+00]),\n",
       " array([  49. ,  180.4,  311.8,  443.2,  574.6,  706. ,  837.4,  968.8,\n",
       "        1100.2, 1231.6, 1363. , 1494.4, 1625.8, 1757.2, 1888.6, 2020. ,\n",
       "        2151.4, 2282.8, 2414.2, 2545.6, 2677. , 2808.4, 2939.8, 3071.2,\n",
       "        3202.6, 3334. , 3465.4, 3596.8, 3728.2, 3859.6, 3991. ]),\n",
       " <a list of 30 Patch objects>)"
      ]
     },
     "execution_count": 78,
     "metadata": {},
     "output_type": "execute_result"
    },
    {
     "data": {
      "image/png": "[encoded data removed]",
      "text/plain": [
       "<matplotlib.figure.Figure at 0x7f838bb40d68>"
      ]
     },
     "metadata": {},
     "output_type": "display_data"
    }
   ],
   "source": [
    "plt.hist(list(map(lambda x: x[1], imgsize_map.values())), bins=30)"
   ]
  },
  {
   "cell_type": "markdown",
   "metadata": {},
   "source": [
    "## Creating validation dataset"
   ]
  },
  {
   "cell_type": "code",
   "execution_count": 110,
   "metadata": {},
   "outputs": [],
   "source": [
    "def create_valid(val_split=0.15):\n",
    "    !mkdir -p {valid}\n",
    "    folders = !ls {train}\n",
    "    for folder in folders:\n",
    "        !mkdir -p {valid}/'{folder}'\n",
    "        !mv {valid}/'{folder}'/* {train}/'{folder}'\n",
    "        files = !ls {train}/'{folder}'\n",
    "        np.random.shuffle(files)\n",
    "        for file in files[0:int(val_split*len(files))]:\n",
    "            !mv {train}/'{folder}'/{file} {valid}/'{folder}'/{file}"
   ]
  },
  {
   "cell_type": "code",
   "execution_count": 111,
   "metadata": {},
   "outputs": [
    {
     "name": "stdout",
     "output_type": "stream",
     "text": [
      "mv: cannot stat './data/valid/Black-grass/*': No such file or directory\n",
      "mv: cannot stat './data/valid/Charlock/*': No such file or directory\n",
      "mv: cannot stat './data/valid/Cleavers/*': No such file or directory\n",
      "mv: cannot stat './data/valid/Common Chickweed/*': No such file or directory\n",
      "mv: cannot stat './data/valid/Common wheat/*': No such file or directory\n",
      "mv: cannot stat './data/valid/Fat Hen/*': No such file or directory\n",
      "mv: cannot stat './data/valid/Loose Silky-bent/*': No such file or directory\n",
      "mv: cannot stat './data/valid/Maize/*': No such file or directory\n",
      "mv: cannot stat './data/valid/Scentless Mayweed/*': No such file or directory\n",
      "mv: cannot stat './data/valid/Shepherds Purse/*': No such file or directory\n",
      "mv: cannot stat './data/valid/Small-flowered Cranesbill/*': No such file or directory\n",
      "mv: cannot stat './data/valid/Sugar beet/*': No such file or directory\n"
     ]
    }
   ],
   "source": [
    "create_valid()"
   ]
  },
  {
   "cell_type": "code",
   "execution_count": 106,
   "metadata": {},
   "outputs": [],
   "source": [
    "!ls ./data/valid/Black-grass"
   ]
  },
  {
   "cell_type": "markdown",
   "metadata": {},
   "source": [
    "## Looking through sample submission"
   ]
  },
  {
   "cell_type": "code",
   "execution_count": 112,
   "metadata": {},
   "outputs": [],
   "source": [
    "sub = pd.read_csv(f'{path}sample_submission.csv')"
   ]
  },
  {
   "cell_type": "code",
   "execution_count": 114,
   "metadata": {},
   "outputs": [
    {
     "data": {
      "text/html": [
       "<div>\n",
       "<style scoped>\n",
       "    .dataframe tbody tr th:only-of-type {\n",
       "        vertical-align: middle;\n",
       "    }\n",
       "\n",
       "    .dataframe tbody tr th {\n",
       "        vertical-align: top;\n",
       "    }\n",
       "\n",
       "    .dataframe thead th {\n",
       "        text-align: right;\n",
       "    }\n",
       "</style>\n",
       "<table border=\"1\" class=\"dataframe\">\n",
       "  <thead>\n",
       "    <tr style=\"text-align: right;\">\n",
       "      <th></th>\n",
       "      <th>file</th>\n",
       "      <th>species</th>\n",
       "    </tr>\n",
       "  </thead>\n",
       "  <tbody>\n",
       "    <tr>\n",
       "      <th>0</th>\n",
       "      <td>0021e90e4.png</td>\n",
       "      <td>Sugar beet</td>\n",
       "    </tr>\n",
       "    <tr>\n",
       "      <th>1</th>\n",
       "      <td>003d61042.png</td>\n",
       "      <td>Sugar beet</td>\n",
       "    </tr>\n",
       "    <tr>\n",
       "      <th>2</th>\n",
       "      <td>007b3da8b.png</td>\n",
       "      <td>Sugar beet</td>\n",
       "    </tr>\n",
       "    <tr>\n",
       "      <th>3</th>\n",
       "      <td>0086a6340.png</td>\n",
       "      <td>Sugar beet</td>\n",
       "    </tr>\n",
       "    <tr>\n",
       "      <th>4</th>\n",
       "      <td>00c47e980.png</td>\n",
       "      <td>Sugar beet</td>\n",
       "    </tr>\n",
       "  </tbody>\n",
       "</table>\n",
       "</div>"
      ],
      "text/plain": [
       "            file     species\n",
       "0  0021e90e4.png  Sugar beet\n",
       "1  003d61042.png  Sugar beet\n",
       "2  007b3da8b.png  Sugar beet\n",
       "3  0086a6340.png  Sugar beet\n",
       "4  00c47e980.png  Sugar beet"
      ]
     },
     "execution_count": 114,
     "metadata": {},
     "output_type": "execute_result"
    }
   ],
   "source": [
    "sub.head()"
   ]
  }
 ],
 "metadata": {
  "kernelspec": {
   "display_name": "Python 3",
   "language": "python",
   "name": "python3"
  },
  "language_info": {
   "codemirror_mode": {
    "name": "ipython",
    "version": 3
   },
   "file_extension": ".py",
   "mimetype": "text/x-python",
   "name": "python",
   "nbconvert_exporter": "python",
   "pygments_lexer": "ipython3",
   "version": "3.6.4"
  }
 },
 "nbformat": 4,
 "nbformat_minor": 2
}
