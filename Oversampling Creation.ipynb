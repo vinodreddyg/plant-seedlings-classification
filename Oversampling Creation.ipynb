{
 "cells": [
  {
   "cell_type": "code",
   "execution_count": 32,
   "metadata": {},
   "outputs": [],
   "source": [
    "from fastai.conv_learner import *"
   ]
  },
  {
   "cell_type": "code",
   "execution_count": 33,
   "metadata": {},
   "outputs": [],
   "source": [
    "path = \"./data/\"\n",
    "train = f'{path}train'\n",
    "train_oversampled = f'{path}train_oversampled'"
   ]
  },
  {
   "cell_type": "markdown",
   "metadata": {},
   "source": [
    "## Copy data"
   ]
  },
  {
   "cell_type": "code",
   "execution_count": 34,
   "metadata": {},
   "outputs": [
    {
     "name": "stdout",
     "output_type": "stream",
     "text": [
      "rm: cannot remove './data/train_oversampled': No such file or directory\r\n"
     ]
    }
   ],
   "source": [
    "!rm -r {train_oversampled}"
   ]
  },
  {
   "cell_type": "code",
   "execution_count": 35,
   "metadata": {},
   "outputs": [],
   "source": [
    "!cp -R {train} {train_oversampled} "
   ]
  },
  {
   "cell_type": "markdown",
   "metadata": {},
   "source": [
    "## Get distribution"
   ]
  },
  {
   "cell_type": "code",
   "execution_count": 18,
   "metadata": {},
   "outputs": [],
   "source": [
    "folders = !ls {train_oversampled}"
   ]
  },
  {
   "cell_type": "code",
   "execution_count": 36,
   "metadata": {},
   "outputs": [],
   "source": [
    "def get_fcnt(folder):\n",
    "    cnt = !ls {train_oversampled}/'{folder}' | wc -l\n",
    "    cnt = int(cnt[0])\n",
    "    return cnt\n",
    "    \n",
    "folder_cnts = { folder: get_fcnt(folder) for folder in folders }"
   ]
  },
  {
   "cell_type": "markdown",
   "metadata": {},
   "source": [
    "## Sample each folder"
   ]
  },
  {
   "cell_type": "code",
   "execution_count": 38,
   "metadata": {},
   "outputs": [],
   "source": [
    "mx = max(folder_cnts.values())\n",
    "\n",
    "for folder in folders:\n",
    "    files = !ls {train_oversampled}/'{folder}'\n",
    "    ratio = mx/folder_cnts[folder] - 1\n",
    "    ext = int(ratio)\n",
    "    prob = ratio - ext\n",
    "    \n",
    "    for file in files:\n",
    "        for i in range(ext):\n",
    "            !cp {train_oversampled}/'{folder}'/{file} {train_oversampled}/'{folder}'/{i}_{file}\n",
    "        rand = np.random.random()\n",
    "        if rand < prob:\n",
    "            !cp {train_oversampled}/'{folder}'/{file} {train_oversampled}/'{folder}'/{ext}_{file}"
   ]
  },
  {
   "cell_type": "code",
   "execution_count": 39,
   "metadata": {},
   "outputs": [
    {
     "data": {
      "text/plain": [
       "{'Black-grass': 562,\n",
       " 'Charlock': 564,\n",
       " 'Cleavers': 549,\n",
       " 'Common Chickweed': 555,\n",
       " 'Common wheat': 556,\n",
       " 'Fat Hen': 568,\n",
       " 'Loose Silky-bent': 556,\n",
       " 'Maize': 556,\n",
       " 'Scentless Mayweed': 545,\n",
       " 'Shepherds Purse': 549,\n",
       " 'Small-flowered Cranesbill': 554,\n",
       " 'Sugar beet': 573}"
      ]
     },
     "execution_count": 39,
     "metadata": {},
     "output_type": "execute_result"
    }
   ],
   "source": [
    "new_folder_cnts = { folder: get_fcnt(folder) for folder in folders }\n",
    "new_folder_cnts"
   ]
  },
  {
   "cell_type": "code",
   "execution_count": 37,
   "metadata": {},
   "outputs": [
    {
     "data": {
      "text/plain": [
       "{'Black-grass': 224,\n",
       " 'Charlock': 332,\n",
       " 'Cleavers': 244,\n",
       " 'Common Chickweed': 520,\n",
       " 'Common wheat': 188,\n",
       " 'Fat Hen': 404,\n",
       " 'Loose Silky-bent': 556,\n",
       " 'Maize': 188,\n",
       " 'Scentless Mayweed': 439,\n",
       " 'Shepherds Purse': 197,\n",
       " 'Small-flowered Cranesbill': 422,\n",
       " 'Sugar beet': 328}"
      ]
     },
     "execution_count": 37,
     "metadata": {},
     "output_type": "execute_result"
    }
   ],
   "source": [
    "folder_cnts"
   ]
  }
 ],
 "metadata": {
  "kernelspec": {
   "display_name": "Python 3",
   "language": "python",
   "name": "python3"
  },
  "language_info": {
   "codemirror_mode": {
    "name": "ipython",
    "version": 3
   },
   "file_extension": ".py",
   "mimetype": "text/x-python",
   "name": "python",
   "nbconvert_exporter": "python",
   "pygments_lexer": "ipython3",
   "version": "3.6.4"
  }
 },
 "nbformat": 4,
 "nbformat_minor": 2
}
